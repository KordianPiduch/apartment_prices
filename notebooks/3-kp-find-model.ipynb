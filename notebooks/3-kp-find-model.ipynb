{
 "cells": [
  {
   "cell_type": "code",
   "execution_count": 1,
   "metadata": {},
   "outputs": [],
   "source": [
    "import sys\n",
    "sys.path.append('../')"
   ]
  },
  {
   "cell_type": "code",
   "execution_count": 2,
   "metadata": {},
   "outputs": [],
   "source": [
    "import numpy as np\n",
    "import pandas as pd\n",
    "from build_features import build_data_sets\n",
    "from build_model import check_model\n",
    "from sklearn.linear_model import LinearRegression, Lasso\n",
    "from sklearn.tree import DecisionTreeRegressor\n",
    "from sklearn.ensemble import RandomForestRegressor, GradientBoostingRegressor\n",
    "from sklearn.model_selection import cross_val_score\n",
    "\n",
    "import warnings\n",
    "warnings.filterwarnings('ignore')"
   ]
  },
  {
   "cell_type": "code",
   "execution_count": 3,
   "metadata": {},
   "outputs": [],
   "source": [
    "df = pd.read_csv('../data/processed/otodom_cleaned.csv', index_col=0)\n",
    "\n",
    "X_train, X_test, y_train, y_test = build_data_sets(df=df)"
   ]
  },
  {
   "cell_type": "markdown",
   "metadata": {},
   "source": [
    "# Linear Regression "
   ]
  },
  {
   "cell_type": "code",
   "execution_count": 4,
   "metadata": {},
   "outputs": [
    {
     "name": "stdout",
     "output_type": "stream",
     "text": [
      "|        |   train    |    test    |\n",
      "* ------ * ---------- * ---------- *\n",
      "|  MAE   |   209884   |   237152   |\n",
      "|   R2   |    0.73    |    0.59    |\n",
      "|  RMSE  |   361600   |   395825   |\n"
     ]
    }
   ],
   "source": [
    "lin_reg = LinearRegression()\n",
    "check_model(lin_reg, X_train, X_test, y_train, y_test)"
   ]
  },
  {
   "cell_type": "markdown",
   "metadata": {},
   "source": [
    "# Linear Regression with L1 regularization (LASSSO)"
   ]
  },
  {
   "cell_type": "code",
   "execution_count": 5,
   "metadata": {},
   "outputs": [
    {
     "name": "stdout",
     "output_type": "stream",
     "text": [
      "|        |   train    |    test    |\n",
      "* ------ * ---------- * ---------- *\n",
      "|  MAE   |   209557   |   236887   |\n",
      "|   R2   |    0.73    |    0.59    |\n",
      "|  RMSE  |   361617   |   395845   |\n"
     ]
    }
   ],
   "source": [
    "lasso = Lasso(alpha=100)\n",
    "check_model(lasso, X_train, X_test, y_train, y_test)"
   ]
  },
  {
   "cell_type": "markdown",
   "metadata": {},
   "source": [
    "# Decision Tree Regressor"
   ]
  },
  {
   "cell_type": "code",
   "execution_count": 6,
   "metadata": {},
   "outputs": [
    {
     "name": "stdout",
     "output_type": "stream",
     "text": [
      "|        |   train    |    test    |\n",
      "* ------ * ---------- * ---------- *\n",
      "|  MAE   |    849     |   164527   |\n",
      "|   R2   |    1.0     |    0.67    |\n",
      "|  RMSE  |    5176    |   356829   |\n"
     ]
    }
   ],
   "source": [
    "unrestricted_tree = DecisionTreeRegressor()\n",
    "check_model(unrestricted_tree, X_train, X_test, y_train, y_test)"
   ]
  },
  {
   "cell_type": "code",
   "execution_count": 7,
   "metadata": {},
   "outputs": [
    {
     "name": "stdout",
     "output_type": "stream",
     "text": [
      "|        |   train    |    test    |\n",
      "* ------ * ---------- * ---------- *\n",
      "|  MAE   |   171390   |   200798   |\n",
      "|   R2   |    0.81    |    0.6     |\n",
      "|  RMSE  |   301582   |   390806   |\n"
     ]
    }
   ],
   "source": [
    "tree = DecisionTreeRegressor(criterion='squared_error', max_depth=6, min_samples_split=4 ,random_state=42)\n",
    "check_model(tree, X_train, X_test, y_train, y_test)"
   ]
  },
  {
   "cell_type": "markdown",
   "metadata": {},
   "source": [
    "# Random Forest Regressor"
   ]
  },
  {
   "cell_type": "code",
   "execution_count": 8,
   "metadata": {},
   "outputs": [
    {
     "name": "stdout",
     "output_type": "stream",
     "text": [
      "|        |   train    |    test    |\n",
      "* ------ * ---------- * ---------- *\n",
      "|  MAE   |   60073    |   152434   |\n",
      "|   R2   |    0.96    |    0.7     |\n",
      "|  RMSE  |   134229   |   337795   |\n"
     ]
    }
   ],
   "source": [
    "unrestricted_forest = RandomForestRegressor()\n",
    "check_model(unrestricted_forest, X_train, X_test, y_train, y_test)"
   ]
  },
  {
   "cell_type": "code",
   "execution_count": 9,
   "metadata": {},
   "outputs": [
    {
     "name": "stdout",
     "output_type": "stream",
     "text": [
      "|        |   train    |    test    |\n",
      "* ------ * ---------- * ---------- *\n",
      "|  MAE   |   153404   |   192847   |\n",
      "|   R2   |    0.87    |    0.63    |\n",
      "|  RMSE  |   255053   |   375235   |\n"
     ]
    }
   ],
   "source": [
    "forest = RandomForestRegressor(n_estimators=100, max_depth=6, min_samples_split=4, n_jobs=-1, random_state=42)\n",
    "check_model(forest, X_train, X_test, y_train, y_test)"
   ]
  },
  {
   "cell_type": "code",
   "execution_count": 10,
   "metadata": {},
   "outputs": [],
   "source": [
    "# z = zip(forest.feature_names_in_,forest.feature_importances_)\n",
    "# lz = list(z)\n",
    "# sorted(lz, key=lambda x: x[1])[::-1]"
   ]
  },
  {
   "cell_type": "code",
   "execution_count": 11,
   "metadata": {},
   "outputs": [
    {
     "name": "stdout",
     "output_type": "stream",
     "text": [
      "|        |   train    |    test    |\n",
      "* ------ * ---------- * ---------- *\n",
      "|  MAE   |   130685   |   182504   |\n",
      "|   R2   |    0.89    |    0.62    |\n",
      "|  RMSE  |   226986   |   380461   |\n"
     ]
    }
   ],
   "source": [
    "unrestricted_grad_boost = GradientBoostingRegressor()\n",
    "check_model(unrestricted_grad_boost, X_train, X_test, y_train, y_test)"
   ]
  },
  {
   "cell_type": "code",
   "execution_count": 12,
   "metadata": {},
   "outputs": [
    {
     "name": "stdout",
     "output_type": "stream",
     "text": [
      "|        |   train    |    test    |\n",
      "* ------ * ---------- * ---------- *\n",
      "|  MAE   |   61474    |   139801   |\n",
      "|   R2   |    0.98    |    0.75    |\n",
      "|  RMSE  |   99260    |   308314   |\n"
     ]
    }
   ],
   "source": [
    "grad_boost = GradientBoostingRegressor(n_estimators=150, criterion='friedman_mse', max_depth=5, random_state=42)\n",
    "check_model(grad_boost, X_train, X_test, y_train, y_test)"
   ]
  },
  {
   "cell_type": "code",
   "execution_count": 13,
   "metadata": {},
   "outputs": [],
   "source": [
    "# z = zip(grad_boost.feature_names_in_,grad_boost.feature_importances_)\n",
    "# lz = list(z)\n",
    "# sorted(lz, key=lambda x: x[1])[::-1]"
   ]
  },
  {
   "cell_type": "markdown",
   "metadata": {},
   "source": [
    "# Neural Network "
   ]
  },
  {
   "cell_type": "code",
   "execution_count": 14,
   "metadata": {},
   "outputs": [],
   "source": [
    "# from sklearn.neural_network import MLPRegressor\n",
    "\n",
    "# reg_model = MLPRegressor(\n",
    "#     hidden_layer_sizes=(100, 100, 50),\n",
    "#     activation='relu',\n",
    "#     solver='adam',\n",
    "#     random_state=42,\n",
    "#     max_iter=1000,\n",
    "#     batch_size=8)\n",
    "\n",
    "# check_model(reg_model, X_train, X_test, y_train, y_test)"
   ]
  }
 ],
 "metadata": {
  "kernelspec": {
   "display_name": "Python 3.10.2 ('venv': venv)",
   "language": "python",
   "name": "python3"
  },
  "language_info": {
   "codemirror_mode": {
    "name": "ipython",
    "version": 3
   },
   "file_extension": ".py",
   "mimetype": "text/x-python",
   "name": "python",
   "nbconvert_exporter": "python",
   "pygments_lexer": "ipython3",
   "version": "3.10.2"
  },
  "orig_nbformat": 4,
  "vscode": {
   "interpreter": {
    "hash": "86dd9f5690fff2f2b973eda222cac2b9c05b660e78ff67ec6e2b845db1e76860"
   }
  }
 },
 "nbformat": 4,
 "nbformat_minor": 2
}

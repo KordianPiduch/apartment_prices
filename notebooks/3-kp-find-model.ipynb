{
 "cells": [
  {
   "cell_type": "code",
   "execution_count": null,
   "metadata": {},
   "outputs": [],
   "source": [
    "import numpy as np\n",
    "import pandas as pd\n",
    "from build_features import split_sets\n",
    "from sklearn.linear_model import LinearRegression, Lasso\n",
    "from sklearn.ensemble import RandomForestRegressor, GradientBoostingRegressor\n",
    "from sklearn.model_selection import cross_val_score"
   ]
  },
  {
   "cell_type": "code",
   "execution_count": null,
   "metadata": {},
   "outputs": [],
   "source": [
    "from sklearn.metrics import mean_squared_error, mean_absolute_error, r2_score\n",
    "\n",
    "def check_model(model, X_train, X_test, y_train, y_test, rounds=3):\n",
    "    model.fit(X_train, y_train)\n",
    "\n",
    "    y_pred_train = model.predict(X_train)\n",
    "    y_pred_test = model.predict(X_test)\n",
    "\n",
    "    mae_train = rounds(mean_absolute_error(y_train, y_pred_train),rounds)\n",
    "    mae_test = rounds(mean_absolute_error(y_test, y_pred_test),rounds)\n",
    "    rmse_train = rounds(mean_squared_error(y_train, y_pred_train, squared=True),rounds)\n",
    "    rmse_test = rounds(mean_squared_error(y_test, y_pred_test, squared=True),rounds)\n",
    "    r2_train = rounds(r2_score(y_train, y_pred_train),rounds)\n",
    "    r2_test = rounds(r2_score(y_test, y_pred_test),rounds)\n",
    "\n",
    "    # show results\n",
    "    print(\"\\t\\t\", \"train\\t|\", \"test\")\n",
    "    print('mae\\t', mae_train, '\\t', mae_test)\n",
    "    print('rmse\\t', rmse_train, '\\t', rmse_test)\n",
    "    print('r2\\t', r2_train, '\\t', r2_test)"
   ]
  },
  {
   "cell_type": "code",
   "execution_count": null,
   "metadata": {},
   "outputs": [],
   "source": [
    "df = pd.read_csv('../data/processed/otodom_cleaned.csv', index_col=0)\n",
    "X_train, X_test, y_train, y_test = split_sets(df)"
   ]
  },
  {
   "cell_type": "markdown",
   "metadata": {},
   "source": [
    "# Linear Regression "
   ]
  },
  {
   "cell_type": "code",
   "execution_count": null,
   "metadata": {},
   "outputs": [],
   "source": []
  }
 ],
 "metadata": {
  "kernelspec": {
   "display_name": "Python 3.10.2 ('venv': venv)",
   "language": "python",
   "name": "python3"
  },
  "language_info": {
   "codemirror_mode": {
    "name": "ipython",
    "version": 3
   },
   "file_extension": ".py",
   "mimetype": "text/x-python",
   "name": "python",
   "nbconvert_exporter": "python",
   "pygments_lexer": "ipython3",
   "version": "3.10.2"
  },
  "orig_nbformat": 4,
  "vscode": {
   "interpreter": {
    "hash": "86dd9f5690fff2f2b973eda222cac2b9c05b660e78ff67ec6e2b845db1e76860"
   }
  }
 },
 "nbformat": 4,
 "nbformat_minor": 2
}
